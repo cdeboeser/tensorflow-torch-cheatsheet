{
 "cells": [
  {
   "cell_type": "markdown",
   "metadata": {},
   "source": [
    "# Basic Tensor Operations"
   ]
  },
  {
   "cell_type": "code",
   "execution_count": 2,
   "metadata": {},
   "outputs": [
    {
     "name": "stdout",
     "output_type": "stream",
     "text": "tensorflow==2.0.0\ntorch==1.3.1\n"
    }
   ],
   "source": [
    "import tensorflow as tf\n",
    "import torch\n",
    "\n",
    "from utils import compare_tensors, get_torch_and_tf_tensor\n",
    "\n",
    "for m in [tf, torch]:\n",
    "    print(f\"{m.__name__}=={m.__version__}\")"
   ]
  },
  {
   "cell_type": "markdown",
   "metadata": {},
   "source": [
    "### Math operations"
   ]
  },
  {
   "cell_type": "markdown",
   "metadata": {},
   "source": [
    "#### Basic single vec operations\n",
    "Example for `sum`. The same goes for `max`, `min`, `prod`, `mean`."
   ]
  },
  {
   "cell_type": "code",
   "execution_count": 3,
   "metadata": {},
   "outputs": [
    {
     "name": "stdout",
     "output_type": "stream",
     "text": [
      "\n",
      "Tensors are identical\n",
      "Torch: (10, 5, 2)\n",
      "Tf:    (10, 5, 2)\n"
     ]
    }
   ],
   "source": [
    "tto, ttf = get_torch_and_tf_tensor(10, 8, 5, 2)\n",
    "\n",
    "# Pytorch\n",
    "tto = tto.sum(dim=1)\n",
    "\n",
    "# Tensorflow\n",
    "ttf = tf.reduce_sum(ttf, axis=1)\n",
    "\n",
    "compare_tensors(tto, ttf)"
   ]
  },
  {
   "cell_type": "markdown",
   "metadata": {},
   "source": [
    "### Matrix operations"
   ]
  },
  {
   "cell_type": "markdown",
   "metadata": {},
   "source": [
    "#### Element wise multiplication `*`, addition `+`, subtraction `-`, division `/`\n",
    "Mathematical operation will be executed on the last n-dimensions. Caution: The last n dimensions of the second vector must have the same shape as the last n dimensions of the first vector"
   ]
  },
  {
   "cell_type": "code",
   "execution_count": 4,
   "metadata": {},
   "outputs": [
    {
     "name": "stdout",
     "output_type": "stream",
     "text": [
      "\n",
      "Tensors are identical\n",
      "Torch: (10, 9, 4, 8)\n",
      "Tf:    (10, 9, 4, 8)\n"
     ]
    }
   ],
   "source": [
    "tto1, ttf1 = get_torch_and_tf_tensor(10, 9, 4, 8)\n",
    "tto2, ttf2 = get_torch_and_tf_tensor(4, 8)\n",
    "\n",
    "# Pytorch\n",
    "tto = tto1 * tto2\n",
    "\n",
    "# Tensorflow\n",
    "ttf = ttf1 * ttf2\n",
    "\n",
    "compare_tensors(tto, ttf)"
   ]
  },
  {
   "cell_type": "markdown",
   "metadata": {},
   "source": [
    "#### Matmul\n",
    "Matrix multiplication of the form `(x, y) * (y, z) -> (x, z)`"
   ]
  },
  {
   "cell_type": "code",
   "execution_count": 5,
   "metadata": {},
   "outputs": [
    {
     "name": "stdout",
     "output_type": "stream",
     "text": [
      "\n",
      "Tensors are identical\n",
      "Torch: (5, 10)\n",
      "Tf:    (5, 10)\n"
     ]
    }
   ],
   "source": [
    "tto1, ttf1 = get_torch_and_tf_tensor(5, 2)\n",
    "tto2, ttf2 = get_torch_and_tf_tensor(2, 10)\n",
    "\n",
    "# Pytorch\n",
    "tto = torch.matmul(tto1, tto2)\n",
    "\n",
    "# Tensorflow\n",
    "ttf = tf.matmul(ttf1, ttf2)\n",
    "\n",
    "compare_tensors(tto, ttf)"
   ]
  },
  {
   "cell_type": "markdown",
   "metadata": {},
   "source": [
    "#### Simple Batch Matmul\n",
    "Matrix multiplication of the form `(b, x, y) * (b, y, z) -> (b, x, z)`"
   ]
  },
  {
   "cell_type": "code",
   "execution_count": 6,
   "metadata": {},
   "outputs": [
    {
     "name": "stdout",
     "output_type": "stream",
     "text": [
      "\n",
      "Tensors are identical\n",
      "Torch: (10, 5, 10)\n",
      "Tf:    (10, 5, 10)\n"
     ]
    }
   ],
   "source": [
    "tto1, ttf1 = get_torch_and_tf_tensor(10, 5, 2)\n",
    "tto2, ttf2 = get_torch_and_tf_tensor(10, 2, 10)\n",
    "\n",
    "# Pytorch\n",
    "tto = torch.bmm(tto1, tto2)\n",
    "\n",
    "# Tensorflow\n",
    "ttf = tf.matmul(ttf1, ttf2)\n",
    "\n",
    "compare_tensors(tto, ttf)"
   ]
  },
  {
   "cell_type": "markdown",
   "metadata": {},
   "source": [
    "#### Extended Batch Matmul\n",
    "Matrix multiplication of the form `(*dims, x, y) * (*dims, y, z) -> (*dims, x, z)`"
   ]
  },
  {
   "cell_type": "code",
   "execution_count": 7,
   "metadata": {},
   "outputs": [
    {
     "name": "stdout",
     "output_type": "stream",
     "text": [
      "\n",
      "Tensors are identical\n",
      "Torch: (10, 8, 5, 10)\n",
      "Tf:    (10, 8, 5, 10)\n"
     ]
    }
   ],
   "source": [
    "tto1, ttf1 = get_torch_and_tf_tensor(10, 8, 5, 2)\n",
    "tto2, ttf2 = get_torch_and_tf_tensor(10, 8, 2, 10)\n",
    "\n",
    "# Pytorch\n",
    "tto = torch.bmm(tto1.view(-1, *tto1.shape[-2:]), \n",
    "                tto2.view(-1, *tto2.shape[-2:]))\n",
    "tto = tto.view(*tto1.shape[:-2], *tto.shape[-2:])\n",
    "\n",
    "# Tensorflow\n",
    "ttf = tf.matmul(ttf1, ttf2)\n",
    "\n",
    "compare_tensors(tto, ttf)"
   ]
  },
  {
   "cell_type": "markdown",
   "metadata": {},
   "source": [
    "### Dealing with Tensor shapes"
   ]
  },
  {
   "cell_type": "markdown",
   "metadata": {},
   "source": [
    "#### Transposing"
   ]
  },
  {
   "cell_type": "code",
   "execution_count": 8,
   "metadata": {},
   "outputs": [
    {
     "name": "stdout",
     "output_type": "stream",
     "text": [
      "\n",
      "Tensors are identical\n",
      "Torch: (2, 5, 10)\n",
      "Tf:    (2, 5, 10)\n"
     ]
    }
   ],
   "source": [
    "tto, ttf = get_torch_and_tf_tensor(10, 5, 2)\n",
    "\n",
    "# Pytorch\n",
    "tto = tto.transpose(2, 0)\n",
    "\n",
    "# Tensorflow\n",
    "ttf = tf.transpose(ttf, (2, 1, 0))\n",
    "\n",
    "compare_tensors(tto, ttf)"
   ]
  },
  {
   "cell_type": "markdown",
   "metadata": {},
   "source": [
    "#### Unsqueeze & Squeeze"
   ]
  },
  {
   "cell_type": "code",
   "execution_count": 9,
   "metadata": {},
   "outputs": [
    {
     "name": "stdout",
     "output_type": "stream",
     "text": [
      "\n",
      "Tensors are identical\n",
      "Torch: (10, 5, 2, 1)\n",
      "Tf:    (10, 5, 2, 1)\n",
      "\n",
      "Tensors are identical\n",
      "Torch: (10, 5, 2)\n",
      "Tf:    (10, 5, 2)\n"
     ]
    }
   ],
   "source": [
    "tto, ttf = get_torch_and_tf_tensor(10, 5, 2)\n",
    "\n",
    "# Unsqueeze\n",
    "tto = tto.unsqueeze(-1)\n",
    "ttf = tf.expand_dims(ttf, -1)\n",
    "compare_tensors(tto, ttf)\n",
    "\n",
    "# Squeeze\n",
    "tto = tto.squeeze(-1)\n",
    "ttf = tf.squeeze(ttf, -1)\n",
    "compare_tensors(tto, ttf)"
   ]
  },
  {
   "cell_type": "markdown",
   "metadata": {},
   "source": [
    "#### Reshaping (Pytorch View)"
   ]
  },
  {
   "cell_type": "code",
   "execution_count": 10,
   "metadata": {},
   "outputs": [
    {
     "name": "stdout",
     "output_type": "stream",
     "text": [
      "\n",
      "Tensors are identical\n",
      "Torch: (5, 10, 2)\n",
      "Tf:    (5, 10, 2)\n"
     ]
    }
   ],
   "source": [
    "tto, ttf = get_torch_and_tf_tensor(10, 5, 2)\n",
    "\n",
    "# Pytorch\n",
    "tto = tto.view(-1, 2)\n",
    "tto = tto.view(5, 10, 2)\n",
    "\n",
    "# Tensorflow\n",
    "ttf = tf.reshape(ttf, (-1, 2))\n",
    "ttf = tf.reshape(ttf, (5, 10, 2))\n",
    "\n",
    "compare_tensors(tto, ttf)"
   ]
  },
  {
   "cell_type": "markdown",
   "metadata": {},
   "source": [
    "#### Expanding and Repeating"
   ]
  },
  {
   "cell_type": "markdown",
   "metadata": {},
   "source": [
    "If dimension that should be repeated is one"
   ]
  },
  {
   "cell_type": "code",
   "execution_count": 19,
   "metadata": {},
   "outputs": [
    {
     "name": "stdout",
     "output_type": "stream",
     "text": [
      "\n",
      "Tensors are identical\n",
      "Torch: (10, 5, 2)\n",
      "Tf:    (10, 5, 2)\n"
     ]
    }
   ],
   "source": [
    "tto, ttf = get_torch_and_tf_tensor(10, 1, 2)\n",
    "\n",
    "# Pytorch\n",
    "tto = tto.expand(-1, 5, -1)\n",
    "\n",
    "# Tensorflow\n",
    "ttf = tf.tile(ttf, (1, 5, 1))\n",
    "\n",
    "compare_tensors(tto, ttf)"
   ]
  },
  {
   "cell_type": "markdown",
   "metadata": {},
   "source": [
    "If dimenstion that should be repeated is not one"
   ]
  },
  {
   "cell_type": "code",
   "execution_count": 17,
   "metadata": {},
   "outputs": [
    {
     "name": "stdout",
     "output_type": "stream",
     "text": [
      "\n",
      "Tensors are identical\n",
      "Torch: (10, 10, 2)\n",
      "Tf:    (10, 10, 2)\n"
     ]
    }
   ],
   "source": [
    "tto, ttf = get_torch_and_tf_tensor(10, 2, 2)\n",
    "\n",
    "# Pytorch\n",
    "# Note: This is slower than expand and should only be used\n",
    "#       if the dimension to be repeated is not one\n",
    "tto = tto.repeat(1, 5, 1)\n",
    "\n",
    "# Tensorflow\n",
    "ttf = tf.tile(ttf, (1, 5, 1))\n",
    "\n",
    "compare_tensors(tto, ttf)"
   ]
  },
  {
   "cell_type": "markdown",
   "metadata": {},
   "source": [
    "### Concatenating and Splitting"
   ]
  },
  {
   "cell_type": "markdown",
   "metadata": {},
   "source": [
    "#### Concatenating"
   ]
  },
  {
   "cell_type": "code",
   "execution_count": 13,
   "metadata": {},
   "outputs": [
    {
     "name": "stdout",
     "output_type": "stream",
     "text": [
      "\n",
      "Tensors are identical\n",
      "Torch: (10, 14, 2)\n",
      "Tf:    (10, 14, 2)\n"
     ]
    }
   ],
   "source": [
    "tto1, ttf1 = get_torch_and_tf_tensor(10, 12, 2)\n",
    "tto2, ttf2 = get_torch_and_tf_tensor(10, 2, 2)\n",
    "\n",
    "# Pytorch\n",
    "tto = torch.cat([tto1, tto2], dim=1)\n",
    "\n",
    "# Tensorflow\n",
    "ttf = tf.concat([ttf1, ttf2], axis=1)\n",
    "\n",
    "compare_tensors(tto, ttf)"
   ]
  },
  {
   "cell_type": "markdown",
   "metadata": {},
   "source": [
    "#### Splitting"
   ]
  },
  {
   "cell_type": "markdown",
   "metadata": {},
   "source": [
    "Splitting in equal chunks"
   ]
  },
  {
   "cell_type": "code",
   "execution_count": 14,
   "metadata": {},
   "outputs": [
    {
     "name": "stdout",
     "output_type": "stream",
     "text": [
      "\n",
      "Tensors are identical\n",
      "Torch: (8, 5, 5, 2)\n",
      "Tf:    (8, 5, 5, 2)\n",
      "\n",
      "Tensors are identical\n",
      "Torch: (8, 5, 5, 2)\n",
      "Tf:    (8, 5, 5, 2)\n"
     ]
    }
   ],
   "source": [
    "tto, ttf = get_torch_and_tf_tensor(8, 10, 5, 2)\n",
    "\n",
    "# Pytorch\n",
    "# Caution: 5 determines the size of each section along the specified dimension\n",
    "tto1, tto2 = torch.split(tto, 5, dim=1)\n",
    "\n",
    "# Tensorflow\n",
    "# Caution: 2 determines the number of sections with equal size along the specified axis\n",
    "ttf1, ttf2 = tf.split(ttf, 2, axis=1)\n",
    "\n",
    "compare_tensors(tto1, ttf1)\n",
    "compare_tensors(tto2, ttf2)"
   ]
  },
  {
   "cell_type": "markdown",
   "metadata": {},
   "source": [
    "Splitting into chunks with a list of defined sizes"
   ]
  },
  {
   "cell_type": "code",
   "execution_count": 15,
   "metadata": {},
   "outputs": [
    {
     "name": "stdout",
     "output_type": "stream",
     "text": [
      "\n",
      "Tensors are identical\n",
      "Torch: (8, 3, 5, 2)\n",
      "Tf:    (8, 3, 5, 2)\n",
      "\n",
      "Tensors are identical\n",
      "Torch: (8, 5, 5, 2)\n",
      "Tf:    (8, 5, 5, 2)\n",
      "\n",
      "Tensors are identical\n",
      "Torch: (8, 2, 5, 2)\n",
      "Tf:    (8, 2, 5, 2)\n"
     ]
    }
   ],
   "source": [
    "tto, ttf = get_torch_and_tf_tensor(8, 10, 5, 2)\n",
    "\n",
    "# Pytorch\n",
    "ttos = torch.split(tto, [3, 5, 2], dim=1)\n",
    "\n",
    "# Tensorflow\n",
    "ttfs = tf.split(ttf, [3, 5, 2], axis=1)\n",
    "\n",
    "for tto, ttf in zip(ttos, ttfs):\n",
    "    compare_tensors(tto, ttf)"
   ]
  }
 ],
 "metadata": {
  "kernelspec": {
   "display_name": "Python 3",
   "language": "python",
   "name": "python3"
  },
  "language_info": {
   "codemirror_mode": {
    "name": "ipython",
    "version": 3
   },
   "file_extension": ".py",
   "mimetype": "text/x-python",
   "name": "python",
   "nbconvert_exporter": "python",
   "pygments_lexer": "ipython3",
   "version": "3.7.3-final"
  }
 },
 "nbformat": 4,
 "nbformat_minor": 4
}