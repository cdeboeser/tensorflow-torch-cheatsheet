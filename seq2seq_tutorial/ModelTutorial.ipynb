{
 "cells": [
  {
   "cell_type": "markdown",
   "metadata": {},
   "source": [
    "# Seq2Seq in Tensorflow 2 and Pytorch"
   ]
  },
  {
   "cell_type": "code",
   "execution_count": 1,
   "metadata": {},
   "outputs": [
    {
     "name": "stdout",
     "output_type": "stream",
     "text": [
      "Tensorflow version 2.1.0\n",
      "Pytorch version 1.4.0\n"
     ]
    }
   ],
   "source": [
    "import numpy as np\n",
    "import time\n",
    "import tqdm\n",
    "import json\n",
    "import GPUtil\n",
    "from collections import Counter\n",
    "import matplotlib.pyplot as plt\n",
    "\n",
    "import tensorflow as tf\n",
    "\n",
    "import torch\n",
    "from torch import nn\n",
    "\n",
    "print(f\"Tensorflow version {tf.__version__}\")\n",
    "print(f\"Pytorch version {torch.__version__}\")"
   ]
  },
  {
   "cell_type": "markdown",
   "metadata": {},
   "source": [
    "Tensorflow 2 by nature pre-allocates all available GPU memory. Since we want to run both Tensorflow and Pytorch in this notebook, we need to make sure that Tensorflow leaves some memory for pytorch. The block below tells Tensorflow to only allocate half of the GPU memory."
   ]
  },
  {
   "cell_type": "code",
   "execution_count": 3,
   "metadata": {},
   "outputs": [
    {
     "name": "stdout",
     "output_type": "stream",
     "text": [
      "1 Physical GPUs, 1 Logical GPUs\n"
     ]
    }
   ],
   "source": [
    "gpus = tf.config.experimental.list_physical_devices('GPU')\n",
    "if gpus:\n",
    "    try:\n",
    "        total_mem = dev = GPUtil.getGPUs()[0].memoryTotal\n",
    "        tf.config.experimental.set_virtual_device_configuration(\n",
    "            gpus[0],\n",
    "            [tf.config.experimental.VirtualDeviceConfiguration(memory_limit=total_mem*0.8)])\n",
    "        logical_gpus = tf.config.experimental.list_logical_devices('GPU')\n",
    "        print(len(gpus), \"Physical GPUs,\", len(logical_gpus), \"Logical GPUs\")\n",
    "    except RuntimeError as e:\n",
    "        print(e)"
   ]
  },
  {
   "cell_type": "markdown",
   "metadata": {},
   "source": [
    "## Model Architecture\n",
    "We are implementing a simple single-layer encoder-decoder architecture with GRU cells and Bahdanau Attention for neural machine translation. This goes beyond a simplistic sequential example and shows the general way how to implement more complicated model architectures.\n",
    "\n",
    "The tensorflow implementation was largely taken from https://github.com/tensorflow/examples. The pytorch implementation was designed to match the tensorflow implementation as closely as possible.\n",
    "\n",
    "![alt text](images/bahdanau.png \"Logo Title Text 1\")\n",
    "\n",
    "Illustration taken from: https://towardsdatascience.com/attn-illustrated-attention-5ec4ad276ee3"
   ]
  },
  {
   "cell_type": "markdown",
   "metadata": {},
   "source": [
    "### Pytorch Implementation"
   ]
  },
  {
   "cell_type": "code",
   "execution_count": 3,
   "metadata": {},
   "outputs": [],
   "source": [
    "class EncoderTorch(nn.Module):\n",
    "    def __init__(self, vocab_size, embedding_dim, enc_units):\n",
    "        super(EncoderTorch, self).__init__()\n",
    "        self.enc_units = enc_units\n",
    "        self.embedding = nn.Embedding(vocab_size, embedding_dim)\n",
    "        self.gru = nn.GRU(embedding_dim, enc_units,\n",
    "                          batch_first=True)\n",
    "    \n",
    "    def forward(self, x, inputs_lengths):\n",
    "        x = self.embedding(x)\n",
    "        x = nn.utils.rnn.pack_padded_sequence(x, inputs_lengths, batch_first=True)\n",
    "        output, state = self.gru(x)\n",
    "        output, _ = nn.utils.rnn.pad_packed_sequence(output, batch_first=True)\n",
    "        return output, state\n",
    "\n",
    "\n",
    "class BahdanauAttentionTorch(nn.Module):\n",
    "    def __init__(self, units):\n",
    "        super(BahdanauAttentionTorch, self).__init__()\n",
    "        self.w1 = nn.Linear(units, units)\n",
    "        self.w2 = nn.Linear(units, units)\n",
    "        self.v = nn.Linear(units, 1)\n",
    "    \n",
    "    def forward(self, query, values):\n",
    "        hidden_with_time_axis = query.transpose(0, 1)\n",
    "        score = self.v(torch.tanh(\n",
    "            self.w1(values) + self.w2(hidden_with_time_axis)))\n",
    "        \n",
    "        attention_weights = torch.softmax(score, dim=1)\n",
    "        \n",
    "        context_vector = attention_weights * values\n",
    "        context_vector = torch.sum(context_vector, dim=1)\n",
    "        \n",
    "        return context_vector, attention_weights\n",
    "\n",
    "\n",
    "class DecoderTorch(nn.Module):\n",
    "    def __init__(self, vocab_size, embedding_dim, dec_units):\n",
    "        super(DecoderTorch, self).__init__()\n",
    "        self.dec_units = dec_units\n",
    "        self.embedding = nn.Embedding(vocab_size, embedding_dim)\n",
    "        self.gru = nn.GRU(embedding_dim + dec_units, \n",
    "                          dec_units,\n",
    "                          batch_first=True)\n",
    "        self.fc = nn.Linear(dec_units, vocab_size)\n",
    "        \n",
    "        self.attention = BahdanauAttentionTorch(dec_units)\n",
    "    \n",
    "    def forward(self, x, hidden, enc_output):\n",
    "        context_vector, attention_weights = self.attention(hidden, enc_output)\n",
    "        x = self.embedding(x)\n",
    "        x = torch.cat([context_vector.unsqueeze(1), x], dim=-1)\n",
    "\n",
    "        output, state = self.gru(x)\n",
    "        \n",
    "        output = output.squeeze(axis=1)\n",
    "        \n",
    "        x = self.fc(output)\n",
    "        \n",
    "        return x, state, attention_weights\n",
    "    \n",
    "class Seq2SeqTorch(nn.Module):\n",
    "    def __init__(self, encoder, decoder):\n",
    "        super(Seq2SeqTorch, self).__init__()\n",
    "        self.encoder = encoder\n",
    "        self.decoder = decoder\n",
    "    \n",
    "    def forward(self, inputs, inputs_lengths, targets):\n",
    "        enc_output, enc_hidden = self.encoder(inputs, inputs_lengths)\n",
    "        dec_hidden = enc_hidden\n",
    "        dec_input = targets[:, 0].unsqueeze(-1)\n",
    "        \n",
    "        predictions = []\n",
    "        \n",
    "        for t in range(1, targets.size(1)):\n",
    "            pred, dec_hidden, _ = self.decoder(dec_input, dec_hidden, enc_output)\n",
    "            dec_input = targets[:, t].unsqueeze(-1)\n",
    "            predictions.append(pred)\n",
    "        \n",
    "        predictions = torch.transpose(torch.stack(predictions), 0, 1)\n",
    "        \n",
    "        return predictions"
   ]
  },
  {
   "cell_type": "code",
   "execution_count": 4,
   "metadata": {},
   "outputs": [
    {
     "name": "stdout",
     "output_type": "stream",
     "text": [
      "CPU times: user 3.09 s, sys: 1 s, total: 4.09 s\n",
      "Wall time: 4.09 s\n"
     ]
    }
   ],
   "source": [
    "%%time\n",
    "encoder_torch = EncoderTorch(100, 16, 32)\n",
    "decoder_torch = DecoderTorch(100, 16, 32)\n",
    "s2s_torch = Seq2SeqTorch(encoder_torch, decoder_torch)\n",
    "s2s_torch = s2s_torch.cuda()"
   ]
  },
  {
   "cell_type": "code",
   "execution_count": 5,
   "metadata": {},
   "outputs": [
    {
     "name": "stdout",
     "output_type": "stream",
     "text": [
      "CPU times: user 8 ms, sys: 4 ms, total: 12 ms\n",
      "Wall time: 8.26 ms\n"
     ]
    },
    {
     "data": {
      "text/plain": [
       "torch.Size([4, 3, 100])"
      ]
     },
     "execution_count": 5,
     "metadata": {},
     "output_type": "execute_result"
    }
   ],
   "source": [
    "%%time\n",
    "inp_torch = torch.from_numpy(np.array([[1,  2,  3,  4],\n",
    "                                       [5,  6,  7,  8],\n",
    "                                       [9, 10, 11, 12],\n",
    "                                       [1,  2,  3,  4]])).cuda()\n",
    "\n",
    "inp_lengths = torch.from_numpy(np.array([4, 4, 4, 4])).cuda()\n",
    "\n",
    "pred_torch = s2s_torch(inp_torch, inp_lengths, inp_torch)\n",
    "pred_torch.shape"
   ]
  },
  {
   "cell_type": "code",
   "execution_count": 6,
   "metadata": {},
   "outputs": [
    {
     "name": "stdout",
     "output_type": "stream",
     "text": [
      "Number of parameters in Pytorch model: 21,317\n"
     ]
    }
   ],
   "source": [
    "print(\"Number of parameters in Pytorch model: {:,}\".format(\n",
    "    sum([np.prod(x.shape) for x in s2s_torch.parameters()])))"
   ]
  },
  {
   "cell_type": "markdown",
   "metadata": {},
   "source": [
    "### Tensorflow Implementation"
   ]
  },
  {
   "cell_type": "markdown",
   "metadata": {},
   "source": [
    "> Note:\n",
    "> * If you frequently need to manually unroll a RNN, you should use `tf.keras.layers.GRUCell/LSTMCell` instead of `tf.keras.layers.GRU/LSTM` to avoid performance issues. As you can see below, the Encoder uses `tf.keras.layers.GRU` since no manual unrolling is required. The decoder uses `tf.keras.layers.GRUCell` as we unroll manually here.\n",
    "> * When running TF2 in eager mode (default), then embeddings will be initialized on the CPU. Frequent embedding lookups then lead to costly transport between GPU and CPU."
   ]
  },
  {
   "cell_type": "code",
   "execution_count": 4,
   "metadata": {},
   "outputs": [],
   "source": [
    "class EncoderTF(tf.keras.layers.Layer):\n",
    "    def __init__(self, vocab_size, embedding_dim, enc_units):\n",
    "        super(EncoderTF, self).__init__()\n",
    "        self.enc_units = enc_units\n",
    "        self.embedding = tf.keras.layers.Embedding(\n",
    "            vocab_size, embedding_dim, mask_zero=True)\n",
    "        self.gru = tf.keras.layers.GRU(\n",
    "            enc_units, return_sequences=True, return_state=True)\n",
    "    \n",
    "    @tf.function(input_signature=[\n",
    "        tf.TensorSpec([None, None], dtype=tf.int32)])\n",
    "    def call(self, x):\n",
    "        mask = self.embedding.compute_mask(x)\n",
    "        x = self.embedding(x)\n",
    "        output, state = self.gru(x, mask=mask)\n",
    "        return output, state\n",
    "\n",
    "\n",
    "class BahdanauAttentionTF(tf.keras.layers.Layer):\n",
    "    def __init__(self, units):\n",
    "        super(BahdanauAttentionTF, self).__init__()\n",
    "        self.w1 = tf.keras.layers.Dense(units)\n",
    "        self.w2 = tf.keras.layers.Dense(units)\n",
    "        self.v = tf.keras.layers.Dense(1)\n",
    "        self.softmax = tf.keras.layers.Softmax(axis=1)\n",
    "\n",
    "    def call(self, query, values):\n",
    "        hidden_with_time_axis = tf.expand_dims(query, 1)\n",
    "        score = self.v(tf.nn.tanh(\n",
    "            self.w1(values) + self.w2(hidden_with_time_axis)))\n",
    "\n",
    "        attention_weights = self.softmax(score)\n",
    "        \n",
    "        context_vector = attention_weights * values\n",
    "        context_vector = tf.reduce_sum(context_vector, axis=1)\n",
    "\n",
    "        return context_vector, attention_weights\n",
    "\n",
    "\n",
    "class DecoderTF(tf.keras.layers.Layer):\n",
    "    def __init__(self, vocab_size, embedding_dim, dec_units):\n",
    "        super(DecoderTF, self).__init__()\n",
    "        self.dec_units = dec_units\n",
    "        self.embedding = tf.keras.layers.Embedding(\n",
    "            vocab_size, embedding_dim, mask_zero=True)\n",
    "        self.gru = tf.keras.layers.GRUCell(dec_units)\n",
    "        self.fc = tf.keras.layers.Dense(vocab_size)\n",
    "\n",
    "        # used for attention\n",
    "        self.attention = BahdanauAttentionTF(dec_units)\n",
    "\n",
    "    def call(self, x, hidden, enc_output):\n",
    "        context_vector, attention_weights = self.attention(hidden, enc_output)\n",
    "        \n",
    "        x = self.embedding(x)\n",
    "        x = tf.concat([context_vector, x], axis=-1)\n",
    "                \n",
    "        output, state = self.gru(x, [hidden])\n",
    "\n",
    "        x = self.fc(output)\n",
    "\n",
    "        return x, state[0], attention_weights\n",
    "\n",
    "class Seq2SeqTF(tf.keras.Model):\n",
    "    def __init__(self, encoder, decoder):\n",
    "        super(Seq2SeqTF, self).__init__()\n",
    "        self.encoder = encoder\n",
    "        self.decoder = decoder\n",
    "    \n",
    "    @tf.function(input_signature=[\n",
    "        [tf.TensorSpec([None, None], dtype=tf.int32),\n",
    "         tf.TensorSpec([None, None], dtype=tf.int32)],\n",
    "        tf.TensorSpec([], dtype=tf.bool)])\n",
    "    def call(self, inputs, training=True):\n",
    "        inputs, targets = inputs\n",
    "        enc_output, enc_hidden = self.encoder(inputs)\n",
    "        dec_hidden = enc_hidden\n",
    "        dec_input = targets[:, 0]\n",
    "        \n",
    "        # Collecting the results from the decoder\n",
    "        predictions = tf.TensorArray(tf.float32, size=tf.shape(targets)[1] - 1)\n",
    "        \n",
    "        for t in tf.range(1, tf.shape(targets)[1]):\n",
    "            pred, dec_hidden, _ = self.decoder(dec_input, dec_hidden, enc_output)\n",
    "            dec_input = targets[:, t]\n",
    "            predictions = predictions.write(t - 1, pred)\n",
    "        \n",
    "        predictions = tf.transpose(predictions.stack(), (1, 0, 2))\n",
    "        \n",
    "        return predictions"
   ]
  },
  {
   "cell_type": "code",
   "execution_count": 5,
   "metadata": {},
   "outputs": [
    {
     "name": "stdout",
     "output_type": "stream",
     "text": [
      "CPU times: user 32 ms, sys: 8 ms, total: 40 ms\n",
      "Wall time: 37.5 ms\n"
     ]
    }
   ],
   "source": [
    "%%time\n",
    "encoder_tf = EncoderTF(100, 16, 32)\n",
    "decoder_tf = DecoderTF(100, 16, 32)\n",
    "s2s_tf = Seq2SeqTF(encoder_tf, decoder_tf)"
   ]
  },
  {
   "cell_type": "markdown",
   "metadata": {},
   "source": [
    "The first execution of the cell below will take a bit longer because TF initialized and builds the graph lazily. That is, on the first forward pass, TF will initialize all weights and build the computation graph. If you execute the cell below a second time, it will be much faster."
   ]
  },
  {
   "cell_type": "code",
   "execution_count": 6,
   "metadata": {},
   "outputs": [
    {
     "name": "stdout",
     "output_type": "stream",
     "text": [
      "CPU times: user 2.2 s, sys: 540 ms, total: 2.74 s\n",
      "Wall time: 2.89 s\n"
     ]
    },
    {
     "data": {
      "text/plain": [
       "TensorShape([4, 3, 100])"
      ]
     },
     "execution_count": 6,
     "metadata": {},
     "output_type": "execute_result"
    }
   ],
   "source": [
    "%%time\n",
    "inp_tf = tf.constant([[1,  2,  3,  4],\n",
    "                      [5,  6,  7,  8],\n",
    "                      [9, 10, 11, 12],\n",
    "                      [1,  2,  3,  4]], dtype=tf.int32)\n",
    "\n",
    "pred = s2s_tf([inp_tf, inp_tf])\n",
    "pred.shape"
   ]
  },
  {
   "cell_type": "code",
   "execution_count": 10,
   "metadata": {},
   "outputs": [
    {
     "name": "stdout",
     "output_type": "stream",
     "text": [
      "Number of parameters in tensorflow model: 21,317\n"
     ]
    }
   ],
   "source": [
    "print(\"Number of parameters in tensorflow model: {:,}\".format(\n",
    "    sum([np.prod(x.numpy().shape) for x in s2s_tf.trainable_variables])))"
   ]
  },
  {
   "cell_type": "markdown",
   "metadata": {},
   "source": [
    "## Training Loops"
   ]
  },
  {
   "cell_type": "code",
   "execution_count": 11,
   "metadata": {},
   "outputs": [],
   "source": [
    "in_embedding_dim = 768\n",
    "in_rnn_dim = 768\n",
    "\n",
    "out_embedding_dim = in_embedding_dim\n",
    "out_rnn_dim = in_rnn_dim\n",
    "\n",
    "num_epochs = 5\n",
    "batch_size = 256"
   ]
  },
  {
   "cell_type": "markdown",
   "metadata": {},
   "source": [
    "### Pytorch"
   ]
  },
  {
   "cell_type": "markdown",
   "metadata": {},
   "source": [
    "#### Dataset and Dataloader"
   ]
  },
  {
   "cell_type": "code",
   "execution_count": 12,
   "metadata": {},
   "outputs": [],
   "source": [
    "from dataloader_torch import TranslationDatasetTorch, collate_fn"
   ]
  },
  {
   "cell_type": "code",
   "execution_count": 13,
   "metadata": {},
   "outputs": [],
   "source": [
    "device = torch.device(\"cuda\") if torch.cuda.is_available() else torch.device(\"cpu\")\n",
    "ds_torch = TranslationDatasetTorch(\"data/jsonl/data_train.jsonl\", device=device)\n",
    "dl_torch = torch.utils.data.DataLoader(ds_torch, batch_size=batch_size, collate_fn=collate_fn)"
   ]
  },
  {
   "cell_type": "code",
   "execution_count": 14,
   "metadata": {},
   "outputs": [
    {
     "data": {
      "text/plain": [
       "(4925, 6822)"
      ]
     },
     "execution_count": 14,
     "metadata": {},
     "output_type": "execute_result"
    }
   ],
   "source": [
    "in_vocab_size = max(ds_torch.stoi_src.values()) + 1\n",
    "out_vocab_size = max(ds_torch.stoi_tgt.values()) + 1\n",
    "in_vocab_size, out_vocab_size"
   ]
  },
  {
   "cell_type": "markdown",
   "metadata": {},
   "source": [
    "#### Model, Optimizer, Loss"
   ]
  },
  {
   "cell_type": "code",
   "execution_count": 15,
   "metadata": {},
   "outputs": [],
   "source": [
    "encoder_torch = EncoderTorch(in_vocab_size, in_embedding_dim, in_rnn_dim)\n",
    "decoder_torch = DecoderTorch(out_vocab_size, out_embedding_dim, out_rnn_dim)\n",
    "s2s_torch = Seq2SeqTorch(encoder_torch, decoder_torch).to(device=device)"
   ]
  },
  {
   "cell_type": "code",
   "execution_count": 16,
   "metadata": {},
   "outputs": [],
   "source": [
    "opt_torch = torch.optim.Adam(s2s_torch.parameters())\n",
    "loss_fn = torch.nn.CrossEntropyLoss(ignore_index=0)\n",
    "if torch.cuda.is_available():\n",
    "    loss_fn = loss_fn.cuda()"
   ]
  },
  {
   "cell_type": "markdown",
   "metadata": {},
   "source": [
    "#### Training Loop"
   ]
  },
  {
   "cell_type": "code",
   "execution_count": 17,
   "metadata": {},
   "outputs": [
    {
     "data": {
      "application/vnd.jupyter.widget-view+json": {
       "model_id": "0d054613e8fa4477b481818c27f9b0f0",
       "version_major": 2,
       "version_minor": 0
      },
      "text/plain": [
       "HBox(children=(FloatProgress(value=0.0, description='Epochs', max=5.0, style=ProgressStyle(description_width='…"
      ]
     },
     "metadata": {},
     "output_type": "display_data"
    },
    {
     "data": {
      "application/vnd.jupyter.widget-view+json": {
       "model_id": "9b94d54a71064a0d9814e7f16a35af74",
       "version_major": 2,
       "version_minor": 0
      },
      "text/plain": [
       "HBox(children=(FloatProgress(value=0.0, description='Epoch 1', max=24.0, style=ProgressStyle(description_width…"
      ]
     },
     "metadata": {},
     "output_type": "display_data"
    },
    {
     "name": "stdout",
     "output_type": "stream",
     "text": [
      "\n"
     ]
    },
    {
     "data": {
      "application/vnd.jupyter.widget-view+json": {
       "model_id": "37befa3906b048afa27e101c4db6417c",
       "version_major": 2,
       "version_minor": 0
      },
      "text/plain": [
       "HBox(children=(FloatProgress(value=0.0, description='Epoch 2', max=24.0, style=ProgressStyle(description_width…"
      ]
     },
     "metadata": {},
     "output_type": "display_data"
    },
    {
     "name": "stdout",
     "output_type": "stream",
     "text": [
      "\n"
     ]
    },
    {
     "data": {
      "application/vnd.jupyter.widget-view+json": {
       "model_id": "95efaf0459a34e99b005f005846e1874",
       "version_major": 2,
       "version_minor": 0
      },
      "text/plain": [
       "HBox(children=(FloatProgress(value=0.0, description='Epoch 3', max=24.0, style=ProgressStyle(description_width…"
      ]
     },
     "metadata": {},
     "output_type": "display_data"
    },
    {
     "name": "stdout",
     "output_type": "stream",
     "text": [
      "\n"
     ]
    },
    {
     "data": {
      "application/vnd.jupyter.widget-view+json": {
       "model_id": "a07524ebd91c4704a37aab9e07136567",
       "version_major": 2,
       "version_minor": 0
      },
      "text/plain": [
       "HBox(children=(FloatProgress(value=0.0, description='Epoch 4', max=24.0, style=ProgressStyle(description_width…"
      ]
     },
     "metadata": {},
     "output_type": "display_data"
    },
    {
     "name": "stdout",
     "output_type": "stream",
     "text": [
      "\n"
     ]
    },
    {
     "data": {
      "application/vnd.jupyter.widget-view+json": {
       "model_id": "c09be704b7f44e809e0f8d4da1a702c6",
       "version_major": 2,
       "version_minor": 0
      },
      "text/plain": [
       "HBox(children=(FloatProgress(value=0.0, description='Epoch 5', max=24.0, style=ProgressStyle(description_width…"
      ]
     },
     "metadata": {},
     "output_type": "display_data"
    },
    {
     "name": "stdout",
     "output_type": "stream",
     "text": [
      "\n",
      "\n",
      "CPU times: user 30.5 s, sys: 35.7 s, total: 1min 6s\n",
      "Wall time: 1min 6s\n"
     ]
    }
   ],
   "source": [
    "%%time\n",
    "losses = []\n",
    "times = []\n",
    "\n",
    "for epoch in tqdm.notebook.tqdm(range(num_epochs), desc='Epochs', total=num_epochs):\n",
    "    train_iter = iter(dl_torch)\n",
    "    s2s_torch.train()\n",
    "    \n",
    "    for src, src_lens, tgt in tqdm.notebook.tqdm(train_iter, desc=f'Epoch {epoch + 1}', \n",
    "                                                 total=len(ds_torch) // batch_size + 1, \n",
    "                                                 leave=True):\n",
    "        before = time.perf_counter()\n",
    "        src_lens = src_lens.squeeze(-1)\n",
    "        predictions = s2s_torch(src, src_lens, tgt)\n",
    "        predictions = predictions.contiguous().view(-1, predictions.size(-1))\n",
    "        loss = loss_fn(predictions, tgt[:, 1:].contiguous().view(-1))\n",
    "        s2s_torch.zero_grad()\n",
    "        loss.backward()\n",
    "        opt_torch.step()\n",
    "        if epoch > 1:\n",
    "            times.append(time.perf_counter() - before)\n",
    "        \n",
    "        losses.append(loss.cpu().detach().numpy())"
   ]
  },
  {
   "cell_type": "code",
   "execution_count": 18,
   "metadata": {},
   "outputs": [
    {
     "name": "stdout",
     "output_type": "stream",
     "text": [
      "Average execution time per step: 488.41ms\n"
     ]
    }
   ],
   "source": [
    "print(\"Average execution time per step: {:.2f}ms\".format(sum(times[1:]) / len(times[1:]) * 1000))"
   ]
  },
  {
   "cell_type": "code",
   "execution_count": 19,
   "metadata": {},
   "outputs": [
    {
     "data": {
      "image/png": "[encoded data removed]",
      "text/plain": [
       "<Figure size 720x432 with 1 Axes>"
      ]
     },
     "metadata": {
      "needs_background": "light"
     },
     "output_type": "display_data"
    }
   ],
   "source": [
    "plt.figure(figsize=(10, 6))\n",
    "plt.plot(losses)\n",
    "plt.title('Pytorch Training')\n",
    "plt.ylabel('Masked Cross-Entropy Loss')\n",
    "plt.xlabel('Training Steps')\n",
    "plt.show()"
   ]
  },
  {
   "cell_type": "markdown",
   "metadata": {},
   "source": [
    "### Tensorflow"
   ]
  },
  {
   "cell_type": "code",
   "execution_count": 20,
   "metadata": {},
   "outputs": [],
   "source": [
    "in_embedding_dim = 768\n",
    "in_rnn_dim = 768\n",
    "\n",
    "out_embedding_dim = in_embedding_dim\n",
    "out_rnn_dim = in_rnn_dim\n",
    "\n",
    "num_epochs = 5\n",
    "batch_size = 256"
   ]
  },
  {
   "cell_type": "markdown",
   "metadata": {},
   "source": [
    "#### Dataset and Dataloader"
   ]
  },
  {
   "cell_type": "code",
   "execution_count": 21,
   "metadata": {},
   "outputs": [],
   "source": [
    "from dataloader_tf import TranslationDatasetTF"
   ]
  },
  {
   "cell_type": "code",
   "execution_count": 22,
   "metadata": {},
   "outputs": [],
   "source": [
    "dataset_generator = TranslationDatasetTF(\"data/jsonl/data_train.jsonl\")"
   ]
  },
  {
   "cell_type": "code",
   "execution_count": 23,
   "metadata": {},
   "outputs": [],
   "source": [
    "ds = dataset_generator.generate_dataset(batch_size=batch_size)\n",
    "num_batches = tf.data.experimental.cardinality(ds).numpy()"
   ]
  },
  {
   "cell_type": "code",
   "execution_count": 24,
   "metadata": {},
   "outputs": [
    {
     "data": {
      "text/plain": [
       "(4925, 6822)"
      ]
     },
     "execution_count": 24,
     "metadata": {},
     "output_type": "execute_result"
    }
   ],
   "source": [
    "in_vocab_size = max(dataset_generator.stoi_src.values()) + 1\n",
    "out_vocab_size = max(dataset_generator.stoi_tgt.values()) + 1\n",
    "in_vocab_size, out_vocab_size"
   ]
  },
  {
   "cell_type": "code",
   "execution_count": 25,
   "metadata": {},
   "outputs": [],
   "source": [
    "encoder_tf = EncoderTF(in_vocab_size, in_embedding_dim, in_rnn_dim)\n",
    "decoder_tf = DecoderTF(out_vocab_size, out_embedding_dim, out_rnn_dim)\n",
    "s2s_tf = Seq2SeqTF(encoder_tf, decoder_tf)"
   ]
  },
  {
   "cell_type": "code",
   "execution_count": 26,
   "metadata": {},
   "outputs": [],
   "source": [
    "opt_tf = tf.optimizers.Adam()\n",
    "loss_fn_tf = tf.keras.losses.SparseCategoricalCrossentropy(from_logits=True, reduction='none')"
   ]
  },
  {
   "cell_type": "code",
   "execution_count": 27,
   "metadata": {},
   "outputs": [],
   "source": [
    "def loss_fn_masked(pred, tgt):\n",
    "    loss = loss_fn_tf(tgt[:, 1:], pred)\n",
    "    mask = tf.not_equal(tgt[:, 1:], 0)\n",
    "    loss = tf.where(mask, loss, 0.)\n",
    "    loss = tf.reduce_sum(loss) / tf.reduce_sum(tf.cast(mask, dtype=tf.float32))\n",
    "    return loss"
   ]
  },
  {
   "cell_type": "code",
   "execution_count": 28,
   "metadata": {},
   "outputs": [],
   "source": [
    "@tf.function(input_signature=[\n",
    "    tf.TensorSpec([None, None], dtype=tf.int32),\n",
    "    tf.TensorSpec([None, None], dtype=tf.int32)])\n",
    "def train_step(src, tgt):\n",
    "    with tf.GradientTape() as tape:\n",
    "        pred = s2s_tf([src, tgt])\n",
    "        loss = loss_fn_masked(pred, tgt)\n",
    "    \n",
    "    gradients = tape.gradient(loss, s2s_tf.trainable_variables)\n",
    "    opt_tf.apply_gradients(zip(gradients, s2s_tf.trainable_variables))\n",
    "    \n",
    "    return loss"
   ]
  },
  {
   "cell_type": "code",
   "execution_count": 29,
   "metadata": {},
   "outputs": [
    {
     "data": {
      "application/vnd.jupyter.widget-view+json": {
       "model_id": "9c95badefa804ebf9f4070877e66209a",
       "version_major": 2,
       "version_minor": 0
      },
      "text/plain": [
       "HBox(children=(FloatProgress(value=0.0, description='Epochs', max=5.0, style=ProgressStyle(description_width='…"
      ]
     },
     "metadata": {},
     "output_type": "display_data"
    },
    {
     "data": {
      "application/vnd.jupyter.widget-view+json": {
       "model_id": "480bb631b6a94a5fa2017bcc699508d8",
       "version_major": 2,
       "version_minor": 0
      },
      "text/plain": [
       "HBox(children=(FloatProgress(value=0.0, description='Epoch 1', max=24.0, style=ProgressStyle(description_width…"
      ]
     },
     "metadata": {},
     "output_type": "display_data"
    },
    {
     "name": "stdout",
     "output_type": "stream",
     "text": [
      "\n"
     ]
    },
    {
     "data": {
      "application/vnd.jupyter.widget-view+json": {
       "model_id": "3de2705e2ba74b7199222b32db48249d",
       "version_major": 2,
       "version_minor": 0
      },
      "text/plain": [
       "HBox(children=(FloatProgress(value=0.0, description='Epoch 2', max=24.0, style=ProgressStyle(description_width…"
      ]
     },
     "metadata": {},
     "output_type": "display_data"
    },
    {
     "name": "stdout",
     "output_type": "stream",
     "text": [
      "\n"
     ]
    },
    {
     "data": {
      "application/vnd.jupyter.widget-view+json": {
       "model_id": "4765386a1e3d41cf8f64375c0e9eb085",
       "version_major": 2,
       "version_minor": 0
      },
      "text/plain": [
       "HBox(children=(FloatProgress(value=0.0, description='Epoch 3', max=24.0, style=ProgressStyle(description_width…"
      ]
     },
     "metadata": {},
     "output_type": "display_data"
    },
    {
     "name": "stdout",
     "output_type": "stream",
     "text": [
      "\n"
     ]
    },
    {
     "data": {
      "application/vnd.jupyter.widget-view+json": {
       "model_id": "942f4a7cc4fe4fb7a7343276e8dfca69",
       "version_major": 2,
       "version_minor": 0
      },
      "text/plain": [
       "HBox(children=(FloatProgress(value=0.0, description='Epoch 4', max=24.0, style=ProgressStyle(description_width…"
      ]
     },
     "metadata": {},
     "output_type": "display_data"
    },
    {
     "name": "stdout",
     "output_type": "stream",
     "text": [
      "\n"
     ]
    },
    {
     "data": {
      "application/vnd.jupyter.widget-view+json": {
       "model_id": "a045abd23c1d4721a169eb2cebee616f",
       "version_major": 2,
       "version_minor": 0
      },
      "text/plain": [
       "HBox(children=(FloatProgress(value=0.0, description='Epoch 5', max=24.0, style=ProgressStyle(description_width…"
      ]
     },
     "metadata": {},
     "output_type": "display_data"
    },
    {
     "name": "stdout",
     "output_type": "stream",
     "text": [
      "\n",
      "\n",
      "CPU times: user 1min 10s, sys: 13.1 s, total: 1min 23s\n",
      "Wall time: 1min 28s\n"
     ]
    }
   ],
   "source": [
    "%%time\n",
    "\n",
    "losses = []\n",
    "times = []\n",
    "\n",
    "for epoch in tqdm.notebook.tqdm(range(num_epochs), desc='Epochs', total=num_epochs):\n",
    "    train_iter = iter(ds)\n",
    "    \n",
    "    \n",
    "    for inputs, targets in tqdm.notebook.tqdm(train_iter, desc=f'Epoch {epoch + 1}',\n",
    "                                                 total=num_batches, \n",
    "                                                 leave=True):\n",
    "        before = time.perf_counter()\n",
    "        loss = train_step(*inputs)\n",
    "        losses.append(loss)\n",
    "        if epoch > 1:\n",
    "            times.append(time.perf_counter() - before)"
   ]
  },
  {
   "cell_type": "code",
   "execution_count": 30,
   "metadata": {},
   "outputs": [
    {
     "name": "stdout",
     "output_type": "stream",
     "text": [
      "Average execution time per step: 687.15ms\n"
     ]
    }
   ],
   "source": [
    "#Cutting of the first step to not include the time for initialization and graph building\n",
    "print(\"Average execution time per step: {:.2f}ms\".format(sum(times[1:]) / len(times[1:]) * 1000))"
   ]
  },
  {
   "cell_type": "code",
   "execution_count": 31,
   "metadata": {},
   "outputs": [
    {
     "data": {
      "image/png": "[encoded data removed]",
      "text/plain": [
       "<Figure size 720x432 with 1 Axes>"
      ]
     },
     "metadata": {
      "needs_background": "light"
     },
     "output_type": "display_data"
    }
   ],
   "source": [
    "plt.figure(figsize=(10, 6))\n",
    "plt.plot(losses)\n",
    "plt.title('Tensorflow Training')\n",
    "plt.ylabel('Masked Cross-Entropy Loss')\n",
    "plt.xlabel('Training Steps')\n",
    "plt.show()"
   ]
  },
  {
   "cell_type": "markdown",
   "metadata": {},
   "source": [
    "Do note that the losses are not direclty comparable due to the difference in omplementation of the loss function."
   ]
  }
 ],
 "metadata": {
  "kernelspec": {
   "display_name": "Python 3",
   "language": "python",
   "name": "python3"
  },
  "language_info": {
   "codemirror_mode": {
    "name": "ipython",
    "version": 3
   },
   "file_extension": ".py",
   "mimetype": "text/x-python",
   "name": "python",
   "nbconvert_exporter": "python",
   "pygments_lexer": "ipython3",
   "version": "3.6.9"
  }
 },
 "nbformat": 4,
 "nbformat_minor": 4
}
